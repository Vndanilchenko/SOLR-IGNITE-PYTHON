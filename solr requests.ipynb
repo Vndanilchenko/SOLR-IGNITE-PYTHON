{
 "cells": [
  {
   "cell_type": "markdown",
   "metadata": {},
   "source": [
    "ЗАГРУЗИМ ПОДГОТОВЛЕННЫЕ ДАННЫЕ 50 СТАТЕЙ ИЗ WIKIPEDIA В SOLR И ВЫПОЛНИМ НЕСКОЛЬКО ЗАПРОСОВ ПО ПОИСКУ НАШИХ ДОКУМЕНТОВ\n",
    "\n",
    "Данильченко Вадим"
   ]
  },
  {
   "cell_type": "code",
   "execution_count": 4,
   "metadata": {},
   "outputs": [
    {
     "name": "stdout",
     "output_type": "stream",
     "text": [
      "Requirement already satisfied: pysolr in ./myvenv/lib/python3.8/site-packages (3.9.0)\n",
      "Requirement already satisfied: requests>=2.9.1 in ./myvenv/lib/python3.8/site-packages (from pysolr) (2.26.0)\n",
      "Requirement already satisfied: urllib3<1.27,>=1.21.1 in ./myvenv/lib/python3.8/site-packages (from requests>=2.9.1->pysolr) (1.26.6)\n",
      "Requirement already satisfied: certifi>=2017.4.17 in ./myvenv/lib/python3.8/site-packages (from requests>=2.9.1->pysolr) (2021.5.30)\n",
      "Requirement already satisfied: idna<4,>=2.5; python_version >= \"3\" in ./myvenv/lib/python3.8/site-packages (from requests>=2.9.1->pysolr) (3.2)\n",
      "Requirement already satisfied: charset-normalizer~=2.0.0; python_version >= \"3\" in ./myvenv/lib/python3.8/site-packages (from requests>=2.9.1->pysolr) (2.0.4)\n"
     ]
    }
   ],
   "source": [
    "!pip3 install pysolr"
   ]
  },
  {
   "cell_type": "code",
   "execution_count": 5,
   "metadata": {},
   "outputs": [],
   "source": [
    "# импортируем библиотеки\n",
    "import pysolr\n",
    "import json\n",
    "from tqdm import tqdm"
   ]
  },
  {
   "cell_type": "code",
   "execution_count": 9,
   "metadata": {},
   "outputs": [],
   "source": [
    "# Создаем клиент solr, указывая адрес, порт и название core (можно посмотреть в Web интерфейсе)\n",
    "solr = pysolr.Solr('http://0.0.0.0:8983/solr/gettingstarted/', always_commit=True)"
   ]
  },
  {
   "cell_type": "code",
   "execution_count": 10,
   "metadata": {},
   "outputs": [
    {
     "data": {
      "text/plain": [
       "'{\\n  \"responseHeader\":{\\n    \"zkConnected\":null,\\n    \"status\":0,\\n    \"QTime\":98,\\n    \"params\":{\\n      \"q\":\"{!lucene}*:*\",\\n      \"distrib\":\"false\",\\n      \"df\":\"_text_\",\\n      \"rows\":\"10\",\\n      \"echoParams\":\"all\",\\n      \"rid\":\"-0\"}},\\n  \"status\":\"OK\"}\\n'"
      ]
     },
     "execution_count": 10,
     "metadata": {},
     "output_type": "execute_result"
    }
   ],
   "source": [
    "# Проверим доступность solr\n",
    "solr.ping()"
   ]
  },
  {
   "cell_type": "code",
   "execution_count": 11,
   "metadata": {},
   "outputs": [
    {
     "name": "stdout",
     "output_type": "stream",
     "text": [
      "'extract data from wikipedia.ipynb'  'solr requests.ipynb'\n",
      " myvenv\t\t\t\t      wikipages_50.json\n"
     ]
    }
   ],
   "source": [
    "# посмотрим на наличие нужных файлов в корневой директории\n",
    "!ls"
   ]
  },
  {
   "cell_type": "code",
   "execution_count": 16,
   "metadata": {},
   "outputs": [
    {
     "data": {
      "text/plain": [
       "{'content': 'Rhynchosia minima is a species of flowering plant in the legume family known by the common names least snout-bean, burn-mouth-vine, and jumby-bean. It can be found on every continent. It is naturalized in Hawaii.This perennial herb has twining or trailing stems which can reach 1.2 meters in length. The leaves are made up of three leaflets measuring up to 3 to 3.5 centimeters long. The inflorescence is a raceme of up to 15 flowers. The flowers are yellow with purple or brown veining and measure up to 8 millimeters long. The fruit is one or two centimeters long.This common plant is used as animal forage.\\n\\n\\n== References ==\\n\\n\\n== External links ==\\nRhynchosia minima in West African plants – A Photo Guide.',\n",
       " 'meta': {'title': 'Rhynchosia minima',\n",
       "  'categories': ['All stub articles',\n",
       "   \"Articles with 'species' microformats\",\n",
       "   'Articles with short description',\n",
       "   'Flora of Australia',\n",
       "   'Phaseoleae stubs',\n",
       "   'Rhynchosia',\n",
       "   'Short description is different from Wikidata',\n",
       "   'Taxonbars with 25–29 taxon IDs',\n",
       "   'Taxonbars with automatically added basionyms']}}"
      ]
     },
     "execution_count": 16,
     "metadata": {},
     "output_type": "execute_result"
    }
   ],
   "source": [
    "# загрузим подготовленные данные статей википедии\n",
    "with open('./wikipages_50.json', \"r\") as f:\n",
    "    pages = json.load(f)\n",
    "    \n",
    "pages['0']"
   ]
  },
  {
   "cell_type": "code",
   "execution_count": 21,
   "metadata": {},
   "outputs": [
    {
     "name": "stderr",
     "output_type": "stream",
     "text": [
      "100%|███████████████████████████████████████████████████████████████████████████████████████████████| 50/50 [00:06<00:00,  7.40it/s]\n"
     ]
    }
   ],
   "source": [
    "# выполним добавление только метаданных\n",
    "for k,v in tqdm(pages.items()):\n",
    "    solr.add([\n",
    "    {\n",
    "        \"id\": \"doc_\" + k,\n",
    "        \"title\": v['meta']['title'],\n",
    "        \"categories\": v['meta']['categories']\n",
    "        }])"
   ]
  },
  {
   "cell_type": "code",
   "execution_count": 22,
   "metadata": {},
   "outputs": [
    {
     "name": "stderr",
     "output_type": "stream",
     "text": [
      "100%|███████████████████████████████████████████████████████████████████████████████████████████████| 50/50 [00:03<00:00, 15.19it/s]\n"
     ]
    }
   ],
   "source": [
    "# удалим все записи по ключу документа\n",
    "for k,v in tqdm(pages.items()):\n",
    "    solr.delete(id=\"doc_\"+k)"
   ]
  },
  {
   "cell_type": "code",
   "execution_count": 25,
   "metadata": {},
   "outputs": [],
   "source": [
    "# выполним проверку удаленного документа, осуществив поиск по заголовку\n",
    "for res in solr.search('title:Rhynchosia minima'):\n",
    "    print(res['title'])"
   ]
  },
  {
   "cell_type": "code",
   "execution_count": 27,
   "metadata": {},
   "outputs": [
    {
     "name": "stderr",
     "output_type": "stream",
     "text": [
      "100%|███████████████████████████████████████████████████████████████████████████████████████████████| 50/50 [00:06<00:00,  7.32it/s]\n"
     ]
    }
   ],
   "source": [
    "# выполним добавление всех данных из каждой страницы\n",
    "for k,v in tqdm(pages.items()):\n",
    "    solr.add([\n",
    "    {\n",
    "        \"id\": \"doc_\" + k,\n",
    "        \"title\": v['meta']['title'],\n",
    "        \"categories\": v['meta']['categories'],\n",
    "        \"text\": v[\"content\"]\n",
    "        }])"
   ]
  },
  {
   "cell_type": "code",
   "execution_count": 28,
   "metadata": {},
   "outputs": [
    {
     "name": "stdout",
     "output_type": "stream",
     "text": [
      "['Rhynchosia minima']\n"
     ]
    }
   ],
   "source": [
    "# выполним проверку добавленного документа, осуществив поиск по заголовку\n",
    "for res in solr.search('title:Rhynchosia minima'):\n",
    "    print(res['title'])"
   ]
  },
  {
   "cell_type": "code",
   "execution_count": 33,
   "metadata": {},
   "outputs": [
    {
     "name": "stdout",
     "output_type": "stream",
     "text": [
      "page 31 title original:  Cerro Colorado Mountains\n",
      "res title:  ['Cerro Colorado Mountains']\n",
      "res text: \n",
      " ['The Cerro Colorado Mountains are a low mountain range in southern Pima County, Arizona, USA. The highest point of the range is (5,319 feet (1,621 m)). The range consists of a NNW–SSE trending ridge with several shorter ridges extending off the main ridge to the ENE. The higher portions of the range cover an area of about 21 km2 (8.1 sq mi), with dimensions of 6.8 km (4.2 mi) by 4.0 km (2.5 mi).The foothills of the Sierrita Mountains lie about 7 mi (11 km) to the north with the Batamote Hills and Penitas Hills between to the north and northwest respectively. The Las Guijas Mountains lie 12 km (7.5 mi) to the southwest. The Sierra Colorado silver mining district lies in the hills between the Sierra Colorados and the Las Guijas ranges. Saucito Mountain at the north end of the Tumacacori Mountains of Santa Cruz County is about 11 km (6.8 mi) southeast. Arivaca Junction in the Santa Cruz River valley lies 17.5 km (10.9 mi) due east. The Santa Rita Mountains are across the Santa Cruz Valley ']\n"
     ]
    }
   ],
   "source": [
    "# выполним запрос, указав заголовок документа\n",
    "print(\"page 31 title original: \", pages[\"31\"][\"meta\"][\"title\"])\n",
    "for res in solr.search('title:'+pages[\"31\"][\"meta\"][\"title\"]):\n",
    "    print(\"res title: \", res['title'])\n",
    "    print(\"res text: \\n\", res['text'])"
   ]
  },
  {
   "cell_type": "code",
   "execution_count": 64,
   "metadata": {},
   "outputs": [
    {
     "name": "stdout",
     "output_type": "stream",
     "text": [
      "page 42 text fragment original:  Response\n",
      "page 42 title original:  FBI Critical Incident Response Group\n",
      "res title:  ['FBI Critical Incident Response Group']\n",
      "res text: \n",
      " ['The Critical Incident Response Group (CIRG) is a division of the Criminal, Cyber, Response, and Services Branch of the United States Federal Bureau of Investigation. CIRG enables the FBI to rapidly respond to, and effectively manage, special crisis incidents in the United States.\\n\\n\\n== History ==\\nIn response to public outcry over the standoffs at Ruby Ridge, Idaho, and of the Branch Davidians in the Waco Siege, the FBI formed the CIRG in 1994 to deal more efficiently with crisis situations. The CIRG is designated to formulate strategies, manage hostage or siege situations, and, if humanly possible, resolve them \"without loss of life,\" as FBI Director Louis Freeh, who assumed the post four-and-a-half months after the Waco fire, pledged in a 1995 Senate hearing.\\nCIRG was intended to integrate tactical and investigative resources and expertise for critical incidents which necessitate an immediate response from law enforcement authorities. CIRG will deploy investigative specialists to respo']\n",
      "res categories: \n",
      " ['All articles needing additional references', 'Articles needing additional references from January 2013', 'Articles with short description', 'Government agencies established in 1994', 'Short description is different from Wikidata', 'Wikipedia articles with VIAF identifiers', 'Wikipedia articles with WORLDCATID identifiers']\n"
     ]
    }
   ],
   "source": [
    "# выполним поиск по фрагменту текста\n",
    "print(\"page 42 text fragment original: \", pages[\"42\"][\"content\"][22:30])\n",
    "print(\"page 42 title original: \", pages[\"42\"][\"meta\"][\"title\"])\n",
    "for res in solr.search(\"text:\" + pages[\"42\"][\"content\"][22:30]):\n",
    "    print(\"res title: \", res['title'])\n",
    "    print(\"res text: \\n\", res['text'])\n",
    "    print(\"res categories: \\n\", res['categories'])"
   ]
  }
 ],
 "metadata": {
  "kernelspec": {
   "display_name": "Python 3",
   "language": "python",
   "name": "python3"
  },
  "language_info": {
   "codemirror_mode": {
    "name": "ipython",
    "version": 3
   },
   "file_extension": ".py",
   "mimetype": "text/x-python",
   "name": "python",
   "nbconvert_exporter": "python",
   "pygments_lexer": "ipython3",
   "version": "3.7.4"
  }
 },
 "nbformat": 4,
 "nbformat_minor": 5
}
