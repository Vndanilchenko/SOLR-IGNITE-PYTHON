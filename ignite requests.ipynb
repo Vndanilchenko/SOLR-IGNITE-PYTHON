{
 "cells": [
  {
   "cell_type": "markdown",
   "metadata": {},
   "source": [
    "РАБОТАЕМ С IGNITE С ПОМОЩЬЮ БИБЛИОТЕКИ PYIGNITE\n",
    "\n",
    "Данильченко Вадим"
   ]
  },
  {
   "cell_type": "code",
   "execution_count": 2,
   "metadata": {},
   "outputs": [
    {
     "name": "stdout",
     "output_type": "stream",
     "text": [
      "Requirement already satisfied: folium==0.2.1 in ./myvenv/lib/python3.8/site-packages (0.2.1)\n",
      "Requirement already satisfied: Jinja2 in ./myvenv/lib/python3.8/site-packages (from folium==0.2.1) (3.0.1)\n",
      "Requirement already satisfied: MarkupSafe>=2.0 in ./myvenv/lib/python3.8/site-packages (from Jinja2->folium==0.2.1) (2.0.1)\n",
      "Requirement already satisfied: pyignite==0.2.0 in ./myvenv/lib/python3.8/site-packages (0.2.0)\n",
      "Requirement already satisfied: attrs==18.1.0 in ./myvenv/lib/python3.8/site-packages (from pyignite==0.2.0) (18.1.0)\n",
      "Requirement already satisfied: typing==3.6.4 in ./myvenv/lib/python3.8/site-packages (from pyignite==0.2.0) (3.6.4)\n"
     ]
    }
   ],
   "source": [
    "# установим нужные библиотеки\n",
    "!pip install folium==0.2.1\n",
    "!pip install pyignite==0.2.0"
   ]
  },
  {
   "cell_type": "code",
   "execution_count": 1,
   "metadata": {},
   "outputs": [],
   "source": [
    "# импортируем библиотеки\n",
    "from pyignite import Client\n",
    "import re\n",
    "from tqdm import tqdm"
   ]
  },
  {
   "cell_type": "code",
   "execution_count": 2,
   "metadata": {},
   "outputs": [],
   "source": [
    "# установим подключение\n",
    "client = Client()\n",
    "client.connect('0.0.0.0', 32773)"
   ]
  },
  {
   "cell_type": "code",
   "execution_count": 3,
   "metadata": {},
   "outputs": [
    {
     "data": {
      "text/plain": [
       "['DROP TABLE IF EXISTS Country;',\n",
       " '',\n",
       " 'CREATE TABLE Country (',\n",
       " '  Code CHAR(3) PRIMARY KEY,',\n",
       " '  Name VARCHAR,',\n",
       " '  Continent VARCHAR,',\n",
       " '  Region VARCHAR,',\n",
       " '  SurfaceArea DECIMAL(10,2),',\n",
       " '  IndepYear SMALLINT,',\n",
       " '  Population INT,']"
      ]
     },
     "execution_count": 3,
     "metadata": {},
     "output_type": "execute_result"
    }
   ],
   "source": [
    "# откроем файл с запросом\n",
    "with open('./world.sql', 'r') as f:\n",
    "    sql = f.read().splitlines()\n",
    "    \n",
    "sql[:10]"
   ]
  },
  {
   "cell_type": "markdown",
   "metadata": {},
   "source": [
    "-----------------------------------------------------------------------------------------------------------------------------\n",
    "создадим кэш для Country\n"
   ]
  },
  {
   "cell_type": "code",
   "execution_count": 4,
   "metadata": {},
   "outputs": [],
   "source": [
    "# создадаим кэш\n",
    "cache_country = client.create_cache('Country')"
   ]
  },
  {
   "cell_type": "code",
   "execution_count": 5,
   "metadata": {},
   "outputs": [
    {
     "name": "stderr",
     "output_type": "stream",
     "text": [
      "100%|████████████████████████████████████| 5354/5354 [00:00<00:00, 10490.07it/s]\n"
     ]
    }
   ],
   "source": [
    "# запишем в него данные, где ключом будет название страны, а значением ее код\n",
    "for line in tqdm(sql):\n",
    "    if \"INSERT INTO Country(\" in line:\n",
    "        v, k = [i.strip() for i in re.sub(\"[^a-zA-Z\\ \\-\\,]\", \"\", line.split('VALUES')[-1]).split(',')[:2]]\n",
    "        cache_country.put(k, v)"
   ]
  },
  {
   "cell_type": "code",
   "execution_count": 6,
   "metadata": {},
   "outputs": [
    {
     "name": "stdout",
     "output_type": "stream",
     "text": [
      "Cambodia KHM\n",
      "Paraguay PRY\n",
      "Syria SYR\n",
      "Solomon Islands SLB\n",
      "Montserrat MSR\n",
      "Guadeloupe GLP\n",
      "Falkland Islands FLK\n",
      "Seychelles SYC\n",
      "Bahrain BHR\n",
      "Comoros COM\n",
      "Faroe Islands FRO\n",
      "Finland FIN\n",
      "Puerto Rico PRI\n",
      "Eritrea ERI\n",
      "Liechtenstein LIE\n",
      "Jordan JOR\n",
      "Bulgaria BGR\n",
      "United Arab Emirates ARE\n",
      "Kenya KEN\n",
      "French Polynesia PYF\n",
      "Djibouti DJI\n",
      "Cuba CUB\n",
      "Saint Lucia LCA\n",
      "Mayotte MYT\n",
      "Israel ISR\n",
      "San Marino SMR\n",
      "Tajikistan TJK\n",
      "Gibraltar GIB\n",
      "Cyprus CYP\n",
      "Northern Mariana Islands MNP\n",
      "Malaysia MYS\n",
      "Armenia ARM\n",
      "Brazil BRA\n",
      "Turks and Caicos Islands TCA\n",
      "Holy See Vatican City State VAT\n",
      "Ecuador ECU\n",
      "United States Minor Outlying Islands UMI\n",
      "Italy ITA\n",
      "Haiti HTI\n",
      "Afghanistan AFG\n",
      "Russian Federation RUS\n",
      "American Samoa ASM\n",
      "Kyrgyzstan KGZ\n",
      "Togo TGO\n",
      "Cocos Keeling Islands CCK\n",
      "Uzbekistan UZB\n",
      "Dominica DMA\n",
      "Benin BEN\n",
      "East Timor TMP\n",
      "Sudan SDN\n",
      "Portugal PRT\n",
      "Grenada GRD\n",
      "Latvia LVA\n",
      "Mongolia MNG\n",
      "Morocco MAR\n",
      "Guatemala GTM\n",
      "Heard Island and McDonald Islands HMD\n",
      "Tanzania TZA\n",
      "Ghana GHA\n",
      "India IND\n",
      "Canada CAN\n",
      "Maldives MDV\n",
      "Taiwan TWN\n",
      "Central African Republic CAF\n",
      "Germany DEU\n",
      "United States USA\n",
      "Guinea GIN\n",
      "Somalia SOM\n",
      "Sao Tome and Principe STP\n",
      "Kiribati KIR\n",
      "Equatorial Guinea GNQ\n",
      "Costa Rica CRI\n",
      "Vietnam VNM\n",
      "Nigeria NGA\n",
      "Switzerland CHE\n",
      "Samoa WSM\n",
      "Palestine PSE\n",
      "Spain ESP\n",
      "Palau PLW\n",
      "Estonia EST\n",
      "Kazakstan KAZ\n",
      "Niue NIU\n",
      "Mozambique MOZ\n",
      "El Salvador SLV\n",
      "Guam GUM\n",
      "Lesotho LSO\n",
      "Tonga TON\n",
      "Western Sahara ESH\n",
      "Mauritius MUS\n",
      "Bouvet Island BVT\n",
      "Norfolk Island NFK\n",
      "Macedonia MKD\n",
      "Malta MLT\n",
      "Cape Verde CPV\n",
      "Ireland IRL\n",
      "Lithuania LTU\n",
      "France FRA\n",
      "Nicaragua NIC\n",
      "Norway NOR\n",
      "Macao MAC\n",
      "Mexico MEX\n",
      "Uganda UGA\n",
      "Suriname SUR\n",
      "Greenland GRL\n",
      "Saint Helena SHN\n",
      "Papua New Guinea PNG\n",
      "Bahamas BHS\n",
      "Marshall Islands MHL\n",
      "Mali MLI\n",
      "Panama PAN\n",
      "Laos LAO\n",
      "Argentina ARG\n",
      "Virgin Islands VIR\n",
      "Zambia ZMB\n",
      "Belize BLZ\n",
      "Congo COG\n",
      "Guinea-Bissau GNB\n",
      "Namibia NAM\n",
      "Netherlands Antilles ANT\n",
      "Georgia GEO\n",
      "French Southern territories ATF\n",
      "Saint Kitts and Nevis KNA\n",
      "Yemen YEM\n",
      "Madagascar MDG\n",
      "Aruba ABW\n",
      "Svalbard and Jan Mayen SJM\n",
      "Sweden SWE\n",
      "South Georgia and the South Sandwich Islands SGS\n",
      "Malawi MWI\n",
      "Andorra AND\n",
      "Poland POL\n",
      "Tunisia TUN\n",
      "Tuvalu TUV\n",
      "Lebanon LBN\n",
      "Brunei BRN\n",
      "Azerbaijan AZE\n",
      "Czech Republic CZE\n",
      "Mauritania MRT\n",
      "Australia AUS\n",
      "Myanmar MMR\n",
      "Cameroon CMR\n",
      "Iceland ISL\n",
      "Oman OMN\n",
      "Gabon GAB\n",
      "Yugoslavia YUG\n",
      "Luxembourg LUX\n",
      "Algeria DZA\n",
      "Slovenia SVN\n",
      "Antigua and Barbuda ATG\n",
      "Colombia COL\n",
      "Moldova MDA\n",
      "Vanuatu VUT\n",
      "Honduras HND\n",
      "Antarctica ATA\n",
      "Nauru NRU\n",
      "Burundi BDI\n",
      "Singapore SGP\n",
      "French Guiana GUF\n",
      "Christmas Island CXR\n",
      "Netherlands NLD\n",
      "China CHN\n",
      "Martinique MTQ\n",
      "Saint Pierre and Miquelon SPM\n",
      "Bhutan BTN\n",
      "Romania ROM\n",
      "Philippines PHL\n",
      "Cte dIvoire CIV\n",
      "Pitcairn PCN\n",
      "Zimbabwe ZWE\n",
      "British Indian Ocean Territory IOT\n",
      "Indonesia IDN\n",
      "Angola AGO\n",
      "New Caledonia NCL\n",
      "North Korea PRK\n",
      "Cayman Islands CYM\n",
      "Greece GRC\n",
      "Iran IRN\n",
      "Guyana GUY\n",
      "Iraq IRQ\n",
      "Chile CHL\n",
      "Nepal NPL\n",
      "Fiji Islands FJI\n",
      "Ukraine UKR\n",
      "Runion REU\n",
      "Anguilla AIA\n",
      "Turkey TUR\n",
      "Belgium BEL\n",
      "Trinidad and Tobago TTO\n",
      "South Africa ZAF\n",
      "Bermuda BMU\n",
      "Jamaica JAM\n",
      "Peru PER\n",
      "Turkmenistan TKM\n",
      "Tokelau TKL\n",
      "Hong Kong HKG\n",
      "Chad TCD\n",
      "Thailand THA\n",
      "Kuwait KWT\n",
      "Croatia HRV\n",
      "Sri Lanka LKA\n",
      "Cook Islands COK\n",
      "Uruguay URY\n",
      "United Kingdom GBR\n",
      "Venezuela VEN\n",
      "Liberia LBR\n",
      "Burkina Faso BFA\n",
      "Swaziland SWZ\n",
      "Libyan Arab Jamahiriya LBY\n",
      "Wallis and Futuna WLF\n",
      "South Korea KOR\n",
      "Austria AUT\n",
      "Monaco MCO\n",
      "Hungary HUN\n",
      "Japan JPN\n",
      "Belarus BLR\n",
      "Albania ALB\n",
      "New Zealand NZL\n",
      "Senegal SEN\n",
      "Ethiopia ETH\n",
      "Egypt EGY\n",
      "Sierra Leone SLE\n",
      "Bolivia BOL\n",
      "Saudi Arabia SAU\n",
      "Pakistan PAK\n",
      "Gambia GMB\n",
      "Qatar QAT\n",
      "Slovakia SVK\n",
      "Bosnia and Herzegovina BIH\n",
      "Niger NER\n",
      "Rwanda RWA\n",
      "Bangladesh BGD\n",
      "Barbados BRB\n",
      "Botswana BWA\n",
      "Saint Vincent and the Grenadines VCT\n",
      "Denmark DNK\n",
      "Dominican Republic DOM\n",
      "Micronesia FSM\n"
     ]
    }
   ],
   "source": [
    "# выведем все значения нашей таблицы\n",
    "result = cache_country.scan()\n",
    "\n",
    "for k, v in result:\n",
    "    print(k, v)"
   ]
  },
  {
   "cell_type": "code",
   "execution_count": 9,
   "metadata": {},
   "outputs": [
    {
     "data": {
      "text/plain": [
       "{'Niger': 'NER', 'Sri Lanka': 'LKA', 'Micronesia': 'FSM'}"
      ]
     },
     "execution_count": 9,
     "metadata": {},
     "output_type": "execute_result"
    }
   ],
   "source": [
    "# найдем несколько значений по ключу\n",
    "cache_country.get_all(['Micronesia', 'Niger', 'Sri Lanka'])"
   ]
  },
  {
   "cell_type": "markdown",
   "metadata": {},
   "source": [
    "-----------------------------------------------------------------------------------------------------------------------------\n",
    "создадим кэш для City\n"
   ]
  },
  {
   "cell_type": "code",
   "execution_count": 27,
   "metadata": {},
   "outputs": [],
   "source": [
    "# создадаим кэш\n",
    "cache_city = client.create_cache('City')"
   ]
  },
  {
   "cell_type": "code",
   "execution_count": 28,
   "metadata": {},
   "outputs": [
    {
     "name": "stderr",
     "output_type": "stream",
     "text": [
      "100%|█████████████████████████████████████| 5354/5354 [00:04<00:00, 1245.39it/s]\n"
     ]
    }
   ],
   "source": [
    "# запишем в него данные, где ключом будет id-города, а значением код страны\n",
    "for line in tqdm(sql):\n",
    "    if \"INSERT INTO City(\" in line:\n",
    "        k, v = [j.strip() for i,j in enumerate(re.sub(\"[^a-zA-Z0-9\\ \\-\\,]\", \"\", \n",
    "                                                      line.split('VALUES')[-1]).split(',')) if i in [0,2]]\n",
    "        cache_city.put(k, v)"
   ]
  },
  {
   "cell_type": "code",
   "execution_count": 29,
   "metadata": {},
   "outputs": [
    {
     "name": "stdout",
     "output_type": "stream",
     "text": [
      "907 GEO\n",
      "908 GEO\n",
      "909 GEO\n",
      "3880 USA\n",
      "3760 RUS\n",
      "3881 USA\n",
      "3640 RUS\n",
      "3761 RUS\n",
      "3882 USA\n",
      "1220 IND\n",
      "1341 IND\n"
     ]
    }
   ],
   "source": [
    "# выведем все значения нашей таблицы\n",
    "result = cache_city.scan()\n",
    "\n",
    "i = 0\n",
    "for k, v in result:\n",
    "    print(k, v)\n",
    "    i+=1\n",
    "    if i>10:\n",
    "        break"
   ]
  },
  {
   "cell_type": "code",
   "execution_count": 31,
   "metadata": {},
   "outputs": [
    {
     "data": {
      "text/plain": [
       "{'1': 'AFG', '128': 'ARM', '333': 'BRA'}"
      ]
     },
     "execution_count": 31,
     "metadata": {},
     "output_type": "execute_result"
    }
   ],
   "source": [
    "# найдем несколько значений по ключу\n",
    "cache_city.get_all(['1', '128', '333'])"
   ]
  },
  {
   "cell_type": "markdown",
   "metadata": {},
   "source": [
    "-----------------------------------------------------------------------------------------------------------------------------\n",
    "создадим кэш для CountryLanguage\n"
   ]
  },
  {
   "cell_type": "code",
   "execution_count": 32,
   "metadata": {},
   "outputs": [],
   "source": [
    "# создадаим кэш\n",
    "cache_country_language = client.create_cache('CountryLanguage')"
   ]
  },
  {
   "cell_type": "code",
   "execution_count": 33,
   "metadata": {},
   "outputs": [
    {
     "name": "stderr",
     "output_type": "stream",
     "text": [
      "100%|█████████████████████████████████████| 5354/5354 [00:00<00:00, 6112.43it/s]\n"
     ]
    }
   ],
   "source": [
    "# запишем в него данные, где ключом будет название страны, а значением ее код\n",
    "for line in tqdm(sql):\n",
    "    if \"INSERT INTO CountryLanguage(\" in line:\n",
    "        k, v = [i.strip() for i in re.sub(\"[^a-zA-Z\\ \\-\\,]\", \"\", line.split('VALUES')[-1]).split(',')[:2]]\n",
    "        cache_country_language.put(k, v)"
   ]
  },
  {
   "cell_type": "code",
   "execution_count": 34,
   "metadata": {},
   "outputs": [
    {
     "name": "stdout",
     "output_type": "stream",
     "text": [
      "NZL Maori\n",
      "FJI Hindi\n",
      "GLP French\n",
      "WLF Wallis\n",
      "SDN Zande\n",
      "GMB Wolof\n",
      "MYS Tamil\n",
      "MYT Malagasy\n",
      "GNB Portuguese\n",
      "SEN Wolof\n",
      "TGO Watyi\n",
      "IRL Irish\n",
      "FLK English\n",
      "IRN Turkmenian\n",
      "QAT Urdu\n",
      "BDI Swahili\n",
      "IRQ Persian\n",
      "GNQ Fang\n",
      "THA Thai\n",
      "ABW Spanish\n",
      "ISL Icelandic\n",
      "BEL Turkish\n",
      "ISR Russian\n",
      "KWT English\n",
      "BEN Somba\n",
      "ITA Slovene\n",
      "PAK Urdu\n",
      "BFA Mossi\n",
      "PAN Spanish\n",
      "SGP Tamil\n",
      "UKR Ukrainian\n",
      "CHE Romansh\n",
      "DJI Somali\n",
      "REU Tamil\n",
      "CHL Spanish\n",
      "CHN Zhuang\n",
      "HRV Slovene\n",
      "TJK Uzbek\n",
      "VNM Vietnamese\n",
      "SHN English\n",
      "BGD Tripuri\n",
      "ZWE Shona\n",
      "YUG Slovak\n",
      "BGR Turkish\n",
      "UMI English\n",
      "CIV SouthMande\n",
      "TKL Tokelau\n",
      "TKM Uzbek\n",
      "GRD Creole English\n",
      "GRC Turkish\n",
      "PCN Pitcairnese\n",
      "HTI Haiti Creole\n",
      "GRL Greenlandic\n",
      "AFG Uzbek\n",
      "BHS Creole French\n",
      "BHR English\n",
      "SJM Russian\n",
      "DMA Creole French\n",
      "BIH Serbo-Croatian\n",
      "HUN Slovak\n",
      "AGO Ovimbundu\n",
      "WSM Samoan-English\n",
      "FRA Turkish\n",
      "TMP Sunda\n",
      "NAM San\n",
      "PER Spanish\n",
      "DNK Turkish\n",
      "GTM Spanish\n",
      "FRO Faroese\n",
      "SLB Polynesian Languages\n",
      "SLE Yalunka\n",
      "AIA English\n",
      "GUF Indian Languages\n",
      "SLV Spanish\n",
      "GUM Philippene Languages\n",
      "FSM Yap\n",
      "DOM Spanish\n",
      "CMR Tikar\n",
      "GUY Creole English\n",
      "MAC Portuguese\n",
      "TON Tongan\n",
      "NCL Polynesian Languages\n",
      "SMR Italian\n",
      "ERI Tigrinja\n",
      "MAR Berberi\n",
      "BLR Ukrainian\n",
      "BLZ Spanish\n",
      "PHL Waray-waray\n",
      "COD Zande\n",
      "COG Teke\n",
      "ESH Arabic\n",
      "URY Spanish\n",
      "COK Maori\n",
      "COM Comorian-Swahili\n",
      "COL Spanish\n",
      "USA Vietnamese\n",
      "ESP Spanish\n",
      "EST Ukrainian\n",
      "BMU English\n",
      "SOM Somali\n",
      "VUT French\n",
      "ALB Macedonian\n",
      "ETH Walaita\n",
      "MCO Monegasque\n",
      "NER Tamashek\n",
      "LAO Thai\n",
      "CPV Portuguese\n",
      "MDA Ukrainian\n",
      "MDG Malagasy\n",
      "SPM French\n",
      "NFK English\n",
      "LBN French\n",
      "LBR Mano\n",
      "BOL Spanish\n",
      "MDV English\n",
      "LBY Berberi\n",
      "NGA Tiv\n",
      "LCA English\n",
      "ROM Ukrainian\n",
      "AND Spanish\n",
      "CRI Spanish\n",
      "MEX Zapotec\n",
      "KAZ Uzbek\n",
      "ANT Papiamento\n",
      "TTO Hindi\n",
      "PLW Philippene Languages\n",
      "NIC Sumo\n",
      "TUN Arabic-French-English\n",
      "BRA Portuguese\n",
      "TUR Turkish\n",
      "BRB English\n",
      "TUV Tuvalu\n",
      "JAM Hindi\n",
      "NIU Niue\n",
      "ZAF Zulu\n",
      "BRN Malay-English\n",
      "PNG Papuan Languages\n",
      "STP French\n",
      "MHL Marshallese\n",
      "CUB Spanish\n",
      "TWN Paiwan\n",
      "POL Ukrainian\n",
      "OMN Balochi\n",
      "SUR Sranantonga\n",
      "ARE Hindi\n",
      "KEN Turkana\n",
      "ARG Spanish\n",
      "ARM Azerbaijani\n",
      "UZB Uzbek\n",
      "BTN Nepali\n",
      "NLD Turkish\n",
      "SVK Ukrainian and Russian\n",
      "SVN Slovene\n",
      "ASM Tongan\n",
      "SWE Swedish\n",
      "MKD Turkish\n",
      "LIE Turkish\n",
      "DZA Berberi\n",
      "RUS Ukrainian\n",
      "ATG English\n",
      "SWZ Zulu\n",
      "TZA Swahili\n",
      "CXR English\n",
      "KGZ Uzbek\n",
      "PRI Spanish\n",
      "PRK Korean\n",
      "MLI Tamashek\n",
      "BWA Tswana\n",
      "KHM Vietnamese\n",
      "IDN Sunda\n",
      "PRT Portuguese\n",
      "MLT Maltese\n",
      "CYM English\n",
      "PRY Spanish\n",
      "CYP Turkish\n",
      "SYC Seselwa\n",
      "RWA Rwanda\n",
      "AUS Vietnamese\n",
      "AUT Turkish\n",
      "LKA Tamil\n",
      "PSE Hebrew\n",
      "GAB Punu-sira-nzebi\n",
      "SYR Kurdish\n",
      "CZE Slovak\n",
      "NOR Swedish\n",
      "MMR Shan\n",
      "KIR Tuvalu\n",
      "YEM Soqutri\n",
      "MNG Mongolian\n",
      "NPL Tharu\n",
      "MNP Philippene Languages\n",
      "GBR Kymri\n",
      "MOZ Tswa\n",
      "VAT Italian\n",
      "NRU Tuvalu\n",
      "AZE Russian\n",
      "GEO Russian\n",
      "KNA English\n",
      "VCT English\n",
      "MRT Zenaga\n",
      "PYF Tahitian\n",
      "MSR English\n",
      "ZMB Tongan\n",
      "KOR Korean\n",
      "ECU Spanish\n",
      "VEN Warrau\n",
      "GHA Mossi\n",
      "MTQ French\n",
      "GIB English\n",
      "HKG Hakka\n",
      "CAF Sara\n",
      "LSO Zulu\n",
      "MUS Tamil\n",
      "JOR Circassian\n",
      "GIN Yalunka\n",
      "VGB English\n",
      "CAN Ukrainian\n",
      "TCA English\n",
      "TCD Tandjile\n",
      "IND Urdu\n",
      "SAU Arabic\n",
      "JPN Philippene Languages\n",
      "LTU Ukrainian\n",
      "MWI Yao\n",
      "CCK Malay\n",
      "FIN Swedish\n",
      "LUX Portuguese\n",
      "UGA Teso\n",
      "DEU Turkish\n",
      "EGY Sinaberberi\n",
      "LVA Ukrainian\n",
      "VIR Spanish\n",
      "HND Spanish\n"
     ]
    }
   ],
   "source": [
    "# выведем все значения нашей таблицы\n",
    "result = cache_country_language.scan()\n",
    "\n",
    "for k, v in result:\n",
    "    print(k, v)"
   ]
  },
  {
   "cell_type": "code",
   "execution_count": 37,
   "metadata": {},
   "outputs": [
    {
     "data": {
      "text/plain": [
       "{'FSM': 'Yap', 'RUS': 'Ukrainian', 'NER': 'Tamashek', 'LKA': 'Tamil'}"
      ]
     },
     "execution_count": 37,
     "metadata": {},
     "output_type": "execute_result"
    }
   ],
   "source": [
    "# найдем несколько значений по ключу\n",
    "cache_country_language.get_all(['NER', 'LKA', 'FSM', 'RUS'])"
   ]
  },
  {
   "cell_type": "markdown",
   "metadata": {},
   "source": [
    "результат объясняется тем, что записывалась последняя строка для страны, соответственно при выводе может отображаться не самый популярный язык"
   ]
  },
  {
   "cell_type": "markdown",
   "metadata": {},
   "source": [
    "### SQL. IGNITE"
   ]
  },
  {
   "cell_type": "code",
   "execution_count": 55,
   "metadata": {},
   "outputs": [],
   "source": [
    "# Пропишем код для создания трех таблиц Country, City и CountryLanguage:\n",
    "COUNTRY_CREATE_TABLE_QUERY = '''CREATE TABLE Country (\n",
    "    Code CHAR(3) PRIMARY KEY,\n",
    "    Name CHAR(52),\n",
    "    Continent CHAR(50),\n",
    "    Region CHAR(26),\n",
    "    SurfaceArea DECIMAL(10,2),\n",
    "    IndepYear SMALLINT(6),\n",
    "    Population INT(11),\n",
    "    LifeExpectancy DECIMAL(3,1),\n",
    "    GNP DECIMAL(10,2),\n",
    "    GNPOld DECIMAL(10,2),\n",
    "    LocalName CHAR(45),\n",
    "    GovernmentForm CHAR(45),\n",
    "    HeadOfState CHAR(60),\n",
    "    Capital INT(11),\n",
    "    Code2 CHAR(2)\n",
    ")'''\n",
    "\n",
    "CITY_CREATE_TABLE_QUERY = '''CREATE TABLE City (\n",
    "    ID INT(11),\n",
    "    Name CHAR(35),\n",
    "    CountryCode CHAR(3),\n",
    "    District CHAR(20),\n",
    "    Population INT(11),\n",
    "    PRIMARY KEY (ID, CountryCode)\n",
    ") WITH \"affinityKey=CountryCode\"'''\n",
    "\n",
    "LANGUAGE_CREATE_TABLE_QUERY = '''CREATE TABLE CountryLanguage (\n",
    "    CountryCode CHAR(3),\n",
    "    Language CHAR(30),\n",
    "    IsOfficial BOOLEAN,\n",
    "    Percentage DECIMAL(4,1),\n",
    "    PRIMARY KEY (CountryCode, Language)\n",
    ") WITH \"affinityKey=CountryCode\"'''"
   ]
  },
  {
   "cell_type": "code",
   "execution_count": 56,
   "metadata": {},
   "outputs": [],
   "source": [
    "# исполним код\n",
    "for query in [\n",
    "    COUNTRY_CREATE_TABLE_QUERY,\n",
    "    CITY_CREATE_TABLE_QUERY,\n",
    "    LANGUAGE_CREATE_TABLE_QUERY,\n",
    "]:\n",
    "    client.sql(query)"
   ]
  },
  {
   "cell_type": "code",
   "execution_count": 57,
   "metadata": {},
   "outputs": [],
   "source": [
    "# Создадим индексы для таблиц City и CountryLanguage\n",
    "CITY_CREATE_INDEX = '''\n",
    "CREATE INDEX idx_country_code ON city (CountryCode)'''\n",
    "\n",
    "LANGUAGE_CREATE_INDEX = '''\n",
    "CREATE INDEX idx_lang_country_code ON CountryLanguage (CountryCode)'''\n",
    "\n",
    "for query in [CITY_CREATE_INDEX, LANGUAGE_CREATE_INDEX]:\n",
    "    client.sql(query)"
   ]
  },
  {
   "cell_type": "code",
   "execution_count": 60,
   "metadata": {},
   "outputs": [],
   "source": [
    "# Добавим данных в таблицы:\n",
    "city = [\"INSERT INTO City(ID, Name, CountryCode, District, Population) VALUES (1,'Kabul','AFG','Kabol',1780000);\",\n",
    "\"INSERT INTO City(ID, Name, CountryCode, District, Population) VALUES (2,'Qandahar','AFG','Qandahar',237500);\",\n",
    "\"INSERT INTO City(ID, Name, CountryCode, District, Population) VALUES (3,'Herat','AFG','Herat',186800);\",\n",
    "\"INSERT INTO City(ID, Name, CountryCode, District, Population) VALUES (4,'Mazar-e-Sharif','AFG','Balkh',127800);\",\n",
    "\"INSERT INTO City(ID, Name, CountryCode, District, Population) VALUES (5,'Amsterdam','NLD','Noord-Holland',731200);\",\n",
    "\"INSERT INTO City(ID, Name, CountryCode, District, Population) VALUES (6,'Rotterdam','NLD','Zuid-Holland',593321);\",\n",
    "\"INSERT INTO City(ID, Name, CountryCode, District, Population) VALUES (7,'Haag','NLD','Zuid-Holland',440900);\",\n",
    "\"INSERT INTO City(ID, Name, CountryCode, District, Population) VALUES (8,'Utrecht','NLD','Utrecht',234323);\",\n",
    "\"INSERT INTO City(ID, Name, CountryCode, District, Population) VALUES (9,'Eindhoven','NLD','Noord-Brabant',201843);\",\n",
    "\"INSERT INTO City(ID, Name, CountryCode, District, Population) VALUES (10,'Tilburg','NLD','Noord-Brabant',193238);\",\n",
    "\"INSERT INTO City(ID, Name, CountryCode, District, Population) VALUES (11,'Groningen','NLD','Groningen',172701);\",\n",
    "\"INSERT INTO City(ID, Name, CountryCode, District, Population) VALUES (12,'Breda','NLD','Noord-Brabant',160398);\",\n",
    "\"INSERT INTO City(ID, Name, CountryCode, District, Population) VALUES (13,'Apeldoorn','NLD','Gelderland',153491);\"\n",
    "        \n",
    "]\n",
    "\n",
    "\n",
    "for row in city:\n",
    "    client.sql(row)\n",
    "\n",
    "country = [\"INSERT INTO Country(Code, Name, Continent, Region, SurfaceArea, IndepYear, Population, LifeExpectancy, GNP, GNPOld, LocalName, GovernmentForm, HeadOfState, Capital, Code2) VALUES ('ABW','Aruba','North America','Caribbean',193.00,NULL,103000,78.4,828.00,793.00,'Aruba','Nonmetropolitan Territory of The Netherlands','Beatrix',129,'AW');\",\n",
    "\"INSERT INTO Country(Code, Name, Continent, Region, SurfaceArea, IndepYear, Population, LifeExpectancy, GNP, GNPOld, LocalName, GovernmentForm, HeadOfState, Capital, Code2) VALUES ('AFG','Afghanistan','Asia','Southern and Central Asia',652090.00,1919,22720000,45.9,5976.00,NULL,'Afganistan/Afqanestan','Islamic Emirate','Mohammad Omar',1,'AF');\",\n",
    "\"INSERT INTO Country(Code, Name, Continent, Region, SurfaceArea, IndepYear, Population, LifeExpectancy, GNP, GNPOld, LocalName, GovernmentForm, HeadOfState, Capital, Code2) VALUES ('AGO','Angola','Africa','Central Africa',1246700.00,1975,12878000,38.3,6648.00,7984.00,'Angola','Republic','José Eduardo dos Santos',56,'AO');\",\n",
    "\"INSERT INTO Country(Code, Name, Continent, Region, SurfaceArea, IndepYear, Population, LifeExpectancy, GNP, GNPOld, LocalName, GovernmentForm, HeadOfState, Capital, Code2) VALUES ('AIA','Anguilla','North America','Caribbean',96.00,NULL,8000,76.1,63.20,NULL,'Anguilla','Dependent Territory of the UK','Elisabeth II',62,'AI');\",\n",
    "\"INSERT INTO Country(Code, Name, Continent, Region, SurfaceArea, IndepYear, Population, LifeExpectancy, GNP, GNPOld, LocalName, GovernmentForm, HeadOfState, Capital, Code2) VALUES ('ALB','Albania','Europe','Southern Europe',28748.00,1912,3401200,71.6,3205.00,2500.00,'Shqipëria','Republic','Rexhep Mejdani',34,'AL');\",\n",
    "\"INSERT INTO Country(Code, Name, Continent, Region, SurfaceArea, IndepYear, Population, LifeExpectancy, GNP, GNPOld, LocalName, GovernmentForm, HeadOfState, Capital, Code2) VALUES ('AND','Andorra','Europe','Southern Europe',468.00,1278,78000,83.5,1630.00,NULL,'Andorra','Parliamentary Coprincipality','',55,'AD');\",\n",
    "\"INSERT INTO Country(Code, Name, Continent, Region, SurfaceArea, IndepYear, Population, LifeExpectancy, GNP, GNPOld, LocalName, GovernmentForm, HeadOfState, Capital, Code2) VALUES ('ANT','Netherlands Antilles','North America','Caribbean',800.00,NULL,217000,74.7,1941.00,NULL,'Nederlandse Antillen','Nonmetropolitan Territory of The Netherlands','Beatrix',33,'AN');\",\n",
    "\"INSERT INTO Country(Code, Name, Continent, Region, SurfaceArea, IndepYear, Population, LifeExpectancy, GNP, GNPOld, LocalName, GovernmentForm, HeadOfState, Capital, Code2) VALUES ('ARE','United Arab Emirates','Asia','Middle East',83600.00,1971,2441000,74.1,37966.00,36846.00,'Al-Imarat al-´Arabiya al-Muttahida','Emirate Federation','Zayid bin Sultan al-Nahayan',65,'AE');\",\n",
    "\"INSERT INTO Country(Code, Name, Continent, Region, SurfaceArea, IndepYear, Population, LifeExpectancy, GNP, GNPOld, LocalName, GovernmentForm, HeadOfState, Capital, Code2) VALUES ('ARG','Argentina','South America','South America',2780400.00,1816,37032000,75.1,340238.00,323310.00,'Argentina','Federal Republic','Fernando de la Rúa',69,'AR');\",\n",
    "\"INSERT INTO Country(Code, Name, Continent, Region, SurfaceArea, IndepYear, Population, LifeExpectancy, GNP, GNPOld, LocalName, GovernmentForm, HeadOfState, Capital, Code2) VALUES ('ARM','Armenia','Asia','Middle East',29800.00,1991,3520000,66.4,1813.00,1627.00,'Hajastan','Republic','Robert Kotšarjan',126,'AM');\",\n",
    "\"INSERT INTO Country(Code, Name, Continent, Region, SurfaceArea, IndepYear, Population, LifeExpectancy, GNP, GNPOld, LocalName, GovernmentForm, HeadOfState, Capital, Code2) VALUES ('ASM','American Samoa','Oceania','Polynesia',199.00,NULL,68000,75.1,334.00,NULL,'Amerika Samoa','US Territory','George W. Bush',54,'AS');\",\n",
    "\"INSERT INTO Country(Code, Name, Continent, Region, SurfaceArea, IndepYear, Population, LifeExpectancy, GNP, GNPOld, LocalName, GovernmentForm, HeadOfState, Capital, Code2) VALUES ('ATA','Antarctica','Antarctica','Antarctica',13120000.00,NULL,0,NULL,0.00,NULL,'–','Co-administrated','',NULL,'AQ');\",\n",
    "\"INSERT INTO Country(Code, Name, Continent, Region, SurfaceArea, IndepYear, Population, LifeExpectancy, GNP, GNPOld, LocalName, GovernmentForm, HeadOfState, Capital, Code2) VALUES ('ATF','French Southern territories','Antarctica','Antarctica',7780.00,NULL,0,NULL,0.00,NULL,'Terres australes françaises','Nonmetropolitan Territory of France','Jacques Chirac',NULL,'TF');\",\n",
    "\"INSERT INTO Country(Code, Name, Continent, Region, SurfaceArea, IndepYear, Population, LifeExpectancy, GNP, GNPOld, LocalName, GovernmentForm, HeadOfState, Capital, Code2) VALUES ('ATG','Antigua and Barbuda','North America','Caribbean',442.00,1981,68000,70.5,612.00,584.00,'Antigua and Barbuda','Constitutional Monarchy','Elisabeth II',63,'AG');\"\n",
    "      \n",
    "]\n",
    "\n",
    "for row in country:\n",
    "    client.sql(row)\n",
    "\n",
    "clang = [\"INSERT INTO CountryLanguage(CountryCode, Language, IsOfficial, Percentage) VALUES ('ABW','Dutch','T',5.3);\",\n",
    "\"INSERT INTO CountryLanguage(CountryCode, Language, IsOfficial, Percentage) VALUES ('ABW','English','F',9.5);\",\n",
    "\"INSERT INTO CountryLanguage(CountryCode, Language, IsOfficial, Percentage) VALUES ('ABW','Papiamento','F',76.7);\",\n",
    "\"INSERT INTO CountryLanguage(CountryCode, Language, IsOfficial, Percentage) VALUES ('ABW','Spanish','F',7.4);\",\n",
    "\"INSERT INTO CountryLanguage(CountryCode, Language, IsOfficial, Percentage) VALUES ('AFG','Balochi','F',0.9);\",\n",
    "\"INSERT INTO CountryLanguage(CountryCode, Language, IsOfficial, Percentage) VALUES ('AFG','Dari','T',32.1);\",\n",
    "\"INSERT INTO CountryLanguage(CountryCode, Language, IsOfficial, Percentage) VALUES ('AFG','Pashto','T',52.4);\",\n",
    "\"INSERT INTO CountryLanguage(CountryCode, Language, IsOfficial, Percentage) VALUES ('AFG','Turkmenian','F',1.9);\",\n",
    "\"INSERT INTO CountryLanguage(CountryCode, Language, IsOfficial, Percentage) VALUES ('AFG','Uzbek','F',8.8);\",\n",
    "\"INSERT INTO CountryLanguage(CountryCode, Language, IsOfficial, Percentage) VALUES ('AGO','Ambo','F',2.4);\",\n",
    "\"INSERT INTO CountryLanguage(CountryCode, Language, IsOfficial, Percentage) VALUES ('AGO','Chokwe','F',4.2);\",\n",
    "\"INSERT INTO CountryLanguage(CountryCode, Language, IsOfficial, Percentage) VALUES ('AGO','Kongo','F',13.2);\",\n",
    "\"INSERT INTO CountryLanguage(CountryCode, Language, IsOfficial, Percentage) VALUES ('AGO','Luchazi','F',2.4);\",\n",
    "\"INSERT INTO CountryLanguage(CountryCode, Language, IsOfficial, Percentage) VALUES ('AGO','Luimbe-nganguela','F',5.4);\",\n",
    "\"INSERT INTO CountryLanguage(CountryCode, Language, IsOfficial, Percentage) VALUES ('AGO','Luvale','F',3.6);\",\n",
    "\"INSERT INTO CountryLanguage(CountryCode, Language, IsOfficial, Percentage) VALUES ('AGO','Mbundu','F',21.6);\",\n",
    "\"INSERT INTO CountryLanguage(CountryCode, Language, IsOfficial, Percentage) VALUES ('AGO','Nyaneka-nkhumbi','F',5.4);\",\n",
    "\"INSERT INTO CountryLanguage(CountryCode, Language, IsOfficial, Percentage) VALUES ('AGO','Ovimbundu','F',37.2);\",\n",
    "\"INSERT INTO CountryLanguage(CountryCode, Language, IsOfficial, Percentage) VALUES ('AIA','English','T',0.0);\",\n",
    "\"INSERT INTO CountryLanguage(CountryCode, Language, IsOfficial, Percentage) VALUES ('ALB','Albaniana','T',97.9);\",\n",
    "\"INSERT INTO CountryLanguage(CountryCode, Language, IsOfficial, Percentage) VALUES ('ALB','Greek','F',1.8);\",\n",
    "\"INSERT INTO CountryLanguage(CountryCode, Language, IsOfficial, Percentage) VALUES ('ALB','Macedonian','F',0.1);\",\n",
    "\"INSERT INTO CountryLanguage(CountryCode, Language, IsOfficial, Percentage) VALUES ('AND','Catalan','T',32.3);\"\n",
    "         \n",
    "\n",
    "]\n",
    "\n",
    "\n",
    "for row in clang:\n",
    "    client.sql(row)"
   ]
  },
  {
   "cell_type": "markdown",
   "metadata": {},
   "source": [
    "напишем несколько запросов к таблицам"
   ]
  },
  {
   "cell_type": "code",
   "execution_count": 61,
   "metadata": {},
   "outputs": [
    {
     "name": "stdout",
     "output_type": "stream",
     "text": [
      "Most 10 populated cities:\n",
      "['Kabul', 1780000]\n",
      "['Amsterdam', 731200]\n",
      "['Rotterdam', 593321]\n",
      "['Haag', 440900]\n",
      "['Qandahar', 237500]\n",
      "['Utrecht', 234323]\n",
      "['Eindhoven', 201843]\n",
      "['Tilburg', 193238]\n",
      "['Herat', 186800]\n",
      "['Groningen', 172701]\n"
     ]
    }
   ],
   "source": [
    "query = '''\n",
    "SELECT name, population FROM City ORDER BY population DESC LIMIT 10'''\n",
    "\n",
    "result = client.sql(query)\n",
    "\n",
    "print('Most 10 populated cities:')\n",
    "for row in result:\n",
    "    print(row)"
   ]
  },
  {
   "cell_type": "code",
   "execution_count": 63,
   "metadata": {},
   "outputs": [
    {
     "name": "stdout",
     "output_type": "stream",
     "text": [
      "Top 10 cities with population over 1 bln:\n",
      "['Kabul', 1780000]\n"
     ]
    }
   ],
   "source": [
    "query = '''\n",
    "SELECT name, population FROM City where population>1000000 ORDER BY population DESC LIMIT 10 '''\n",
    "\n",
    "result = client.sql(query)\n",
    "\n",
    "print('Top 10 cities with population over 1 bln:')\n",
    "for row in result:\n",
    "    print(row)"
   ]
  },
  {
   "cell_type": "code",
   "execution_count": 68,
   "metadata": {},
   "outputs": [
    {
     "name": "stdout",
     "output_type": "stream",
     "text": [
      "Top 10 cities with population less than 200000 :\n",
      "['Tilburg', 193238]\n",
      "['Herat', 186800]\n",
      "['Groningen', 172701]\n",
      "['Breda', 160398]\n",
      "['Apeldoorn', 153491]\n",
      "['Mazar-e-Sharif', 127800]\n"
     ]
    }
   ],
   "source": [
    "query = '''\n",
    "SELECT name, population FROM City where population<200000 ORDER BY population DESC LIMIT 10 '''\n",
    "\n",
    "result = client.sql(query)\n",
    "\n",
    "print('Top 10 cities with population less than 200000 :')\n",
    "for row in result:\n",
    "    print(row)"
   ]
  },
  {
   "cell_type": "code",
   "execution_count": 90,
   "metadata": {
    "scrolled": true
   },
   "outputs": [
    {
     "name": "stdout",
     "output_type": "stream",
     "text": [
      "Top 10 cities with \"a\" on 1st place of city name :\n"
     ]
    }
   ],
   "source": [
    "query = '''\n",
    "SELECT name, population FROM City where SUBSTRING(name, 1, 1) = 'a' '''\n",
    "\n",
    "result = client.sql(query)\n",
    "\n",
    "print('Top 10 cities with \"a\" on 1st place of city name :')\n",
    "for row in result:\n",
    "    print(row)"
   ]
  },
  {
   "cell_type": "code",
   "execution_count": 89,
   "metadata": {},
   "outputs": [
    {
     "name": "stdout",
     "output_type": "stream",
     "text": [
      "Top 10 cities with \"a\" on 2nd place of city name :\n",
      "['Kabul', 1780000]\n",
      "['Qandahar', 237500]\n",
      "['Mazar-e-Sharif', 127800]\n",
      "['Haag', 440900]\n"
     ]
    }
   ],
   "source": [
    "query = '''\n",
    "SELECT name, population FROM City where SUBSTRING(name, 2, 1) = 'a' '''\n",
    "\n",
    "result = client.sql(query)\n",
    "\n",
    "print('Top 10 cities with \"a\" on 2nd place of city name :')\n",
    "for row in result:\n",
    "    print(row)"
   ]
  },
  {
   "cell_type": "code",
   "execution_count": 94,
   "metadata": {},
   "outputs": [
    {
     "name": "stdout",
     "output_type": "stream",
     "text": [
      "count countries by Continent :\n",
      "['Asia', 3]\n",
      "['North America', 4]\n",
      "['South America', 1]\n",
      "['Africa', 1]\n",
      "['Oceania', 1]\n",
      "['Antarctica', 2]\n",
      "['Europe', 2]\n"
     ]
    }
   ],
   "source": [
    "query = '''\n",
    "SELECT Continent, count(Name) cnt_countries FROM Country group by Continent'''\n",
    "\n",
    "result = client.sql(query)\n",
    "\n",
    "print('count countries by Continent :')\n",
    "for row in result:\n",
    "    print(row)"
   ]
  }
 ],
 "metadata": {
  "kernelspec": {
   "display_name": "Python 3",
   "language": "python",
   "name": "python3"
  },
  "language_info": {
   "codemirror_mode": {
    "name": "ipython",
    "version": 3
   },
   "file_extension": ".py",
   "mimetype": "text/x-python",
   "name": "python",
   "nbconvert_exporter": "python",
   "pygments_lexer": "ipython3",
   "version": "3.7.4"
  }
 },
 "nbformat": 4,
 "nbformat_minor": 5
}
