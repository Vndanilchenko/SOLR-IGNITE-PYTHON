{
 "cells": [
  {
   "cell_type": "markdown",
   "metadata": {},
   "source": [
    "ИЗВЛЕЧЕМ ИЗ WIKIPEDIA 50 ПРОИЗВОЛЬНЫХ СТАТЕЙ И УКАЖЕМ ПО НИМ МЕТАДАННЫЕ (ЗАГОЛОВОК, КАТЕГОРИИ) И ТЕКСТ СТАТЬИ\n",
    "\n",
    "Данильченко Вадим"
   ]
  },
  {
   "cell_type": "code",
   "execution_count": 1,
   "metadata": {},
   "outputs": [
    {
     "name": "stdout",
     "output_type": "stream",
     "text": [
      "Name: wikipedia\n",
      "Version: 1.4.0\n",
      "Summary: Wikipedia API for Python\n",
      "Home-page: https://github.com/goldsmith/Wikipedia\n",
      "Author: Jonathan Goldsmith\n",
      "Author-email: jhghank@gmail.com\n",
      "License: MIT\n",
      "Location: /home/vadim/python-env/myvenv/lib/python3.8/site-packages\n",
      "Requires: beautifulsoup4, requests\n",
      "Required-by: \n"
     ]
    }
   ],
   "source": [
    "!pip show wikipedia"
   ]
  },
  {
   "cell_type": "code",
   "execution_count": 2,
   "metadata": {},
   "outputs": [],
   "source": [
    "# импортируем библиотеки\n",
    "import wikipedia\n",
    "import json\n",
    "import warnings\n",
    "warnings.filterwarnings('ignore')"
   ]
  },
  {
   "cell_type": "code",
   "execution_count": 3,
   "metadata": {},
   "outputs": [
    {
     "name": "stdout",
     "output_type": "stream",
     "text": [
      "Python is an interpreted high-level general-purpose programming language. Its design philosophy emphasizes code readability with its use of significant indentation. Its language constructs as well as its object-oriented approach aim to help programmers write clear, logical code for small and large-scale projects.Python is dynamically-typed and garbage-collected. It supports multiple programming paradigms, including structured (particularly, procedural), object-oriented and functional programming. It is often described as a \"batteries included\" language due to its comprehensive standard library.Guido van Rossum began working on Python in the late 1980s, as a successor to the ABC programming language, and first released it in 1991 as Python 0.9.0. Python 2.0 was released in 2000 and introduced new features, such as list comprehensions and a garbage collection system using reference counting. Python 3.0 was released in 2008 and was a major revision of the language that is not completely b\n"
     ]
    }
   ],
   "source": [
    "# посмотрим на текст статьи про Python, ограничим длиной 1000\n",
    "print(wikipedia.page(\"Python\").content[:1000])"
   ]
  },
  {
   "cell_type": "code",
   "execution_count": 4,
   "metadata": {},
   "outputs": [
    {
     "name": "stdout",
     "output_type": "stream",
     "text": [
      "Python (programming language)\n"
     ]
    }
   ],
   "source": [
    "# выведем заголовок статьи (Title)\n",
    "print(wikipedia.page(\"Python\").title)"
   ]
  },
  {
   "cell_type": "code",
   "execution_count": 5,
   "metadata": {},
   "outputs": [
    {
     "name": "stdout",
     "output_type": "stream",
     "text": [
      "['All articles containing potentially dated statements', 'Articles containing potentially dated statements from February 2021', 'Articles containing potentially dated statements from March 2021', 'Articles with example Python (programming language) code', 'Articles with short description', 'CS1 maint: archived copy as title', 'Class-based programming languages', 'Computational notebook', 'Computer science in the Netherlands', 'Concurrent programming languages', 'Cross-platform free software', 'Cross-platform software', 'Dutch inventions', 'Dynamically typed programming languages', 'Educational programming languages', 'Good articles', 'High-level programming languages', 'Information technology in the Netherlands', 'Multi-paradigm programming languages', 'Object-oriented programming languages', 'Pages using Sister project links with hidden wikidata', 'Pages using Sister project links with wikidata namespace mismatch', 'Programming languages', 'Programming languages created in 1991', 'Python (programming language)', 'Scripting languages', 'Short description is different from Wikidata', 'Text-oriented programming languages', 'Use dmy dates from August 2020', 'Webarchive template wayback links', 'Wikipedia articles with BNF identifiers', 'Wikipedia articles with FAST identifiers', 'Wikipedia articles with GND identifiers', 'Wikipedia articles with LCCN identifiers', 'Wikipedia articles with MA identifiers', 'Wikipedia articles with SUDOC identifiers']\n"
     ]
    }
   ],
   "source": [
    "# выберем категории, в которых данная статья указана\n",
    "print(wikipedia.page(\"Python\").categories)"
   ]
  },
  {
   "cell_type": "code",
   "execution_count": 6,
   "metadata": {},
   "outputs": [
    {
     "data": {
      "text/plain": [
       "'Robert P. Black'"
      ]
     },
     "execution_count": 6,
     "metadata": {},
     "output_type": "execute_result"
    }
   ],
   "source": [
    "# возьмем случайное название статьи\n",
    "wikipedia.random()"
   ]
  },
  {
   "cell_type": "code",
   "execution_count": 7,
   "metadata": {},
   "outputs": [
    {
     "name": "stdout",
     "output_type": "stream",
     "text": [
      "possible elem 6: DisambiguationError for page \"R. M. Anderson\", use next  name\n",
      "dict length:  50\n"
     ]
    },
    {
     "data": {
      "text/plain": [
       "{'content': 'Wolfgang Grodd (born 25 July 1942 in Detmold) is a German radiologist and professor emeritus of the University of Tübingen. He is known for his scientific works on the development and application of structural and functional magnetic resonance imaging in metabolic diseases, sensorimotor representation, language production, and cognitive processing, cerebellum, and thalamus. Currently, Grodd is a research scientist at the Max Planck Institute for Biological Cybernetics.\\n\\n\\n== Biography ==\\nAfter serving his military duty (Air Force) from 1960 to 1964, Grodd completed his training to become an electronic technician. In 1968 he completed his high-school education at the Westfalen Kolleg in Bielefeld and started his university studies in biology (1968–1977) and medicine (1974–1981), both at the University of Tübingen. From 1972 until 1975 he has rewarded a scholarship of the Evangelisches Studentenwerk Villigst. In 1977 he received his diploma in biology and in 1981 his approval as medical d',\n",
       " 'meta': {'title': 'Wolfgang Grodd',\n",
       "  'categories': ['1942 births',\n",
       "   'Articles with hCards',\n",
       "   'German radiologists',\n",
       "   'Living people',\n",
       "   'Pages using infobox scientist with unknown parameters',\n",
       "   'People from Detmold',\n",
       "   'Wikipedia articles with GND identifiers',\n",
       "   'Wikipedia articles with VIAF identifiers',\n",
       "   'Wikipedia articles with WorldCat-VIAF identifiers',\n",
       "   'Wikipedia articles with undisclosed paid content from October 2017']}}"
      ]
     },
     "execution_count": 7,
     "metadata": {},
     "output_type": "execute_result"
    }
   ],
   "source": [
    "# выберем 50 случайных названий статей и для них запишем:\n",
    "# content- контент (текст статьи)\n",
    "# meta - метаинформация (title - заголовок, categories - категории)\n",
    "pages = {}\n",
    "i = 0\n",
    "while i<50:\n",
    "    try:\n",
    "        page_name = wikipedia.random()\n",
    "        pages[i] = {'content': wikipedia.page(page_name).content[:1000],\n",
    "                   'meta' : {'title': page_name,\n",
    "                             'categories': wikipedia.page(page_name).categories}\n",
    "                  }\n",
    "        i+=1\n",
    "    except:\n",
    "        print(f'possible elem {i}: DisambiguationError for page \"{page_name}\", use next name')\n",
    "        continue\n",
    "\n",
    "print('dict length: ', len(pages))\n",
    "pages[3]"
   ]
  },
  {
   "cell_type": "code",
   "execution_count": 8,
   "metadata": {},
   "outputs": [
    {
     "name": "stdout",
     "output_type": "stream",
     "text": [
      "'extract data from wikipedia.ipynb'   myvenv\n"
     ]
    }
   ],
   "source": [
    "# посмотрим список файлов в корневой директории до сохранения\n",
    "!ls"
   ]
  },
  {
   "cell_type": "code",
   "execution_count": 12,
   "metadata": {},
   "outputs": [],
   "source": [
    "# сохраним json файл\n",
    "with open('./wikipages_50.json', \"w\") as f:\n",
    "    json.dump(pages, f, indent=2)"
   ]
  },
  {
   "cell_type": "code",
   "execution_count": 13,
   "metadata": {},
   "outputs": [
    {
     "name": "stdout",
     "output_type": "stream",
     "text": [
      "'extract data from wikipedia.ipynb'   myvenv   wikipages_50.json\n"
     ]
    }
   ],
   "source": [
    "# # посмотрим список файлов в корневой директории после сохранения\n",
    "!ls"
   ]
  }
 ],
 "metadata": {
  "kernelspec": {
   "display_name": "Python 3",
   "language": "python",
   "name": "python3"
  },
  "language_info": {
   "codemirror_mode": {
    "name": "ipython",
    "version": 3
   },
   "file_extension": ".py",
   "mimetype": "text/x-python",
   "name": "python",
   "nbconvert_exporter": "python",
   "pygments_lexer": "ipython3",
   "version": "3.7.4"
  }
 },
 "nbformat": 4,
 "nbformat_minor": 5
}
